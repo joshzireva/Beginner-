{
 "cells": [
  {
   "cell_type": "markdown",
   "id": "d9d5634b-2fa1-4f45-9953-833f0deec2ec",
   "metadata": {},
   "source": [
    "## Price Prediction By Joshua Zireva"
   ]
  },
  {
   "cell_type": "markdown",
   "id": "134c9967-cfc4-4d83-a661-6c2823806816",
   "metadata": {},
   "source": [
    "##### Import Libraries"
   ]
  },
  {
   "cell_type": "code",
   "execution_count": 115,
   "id": "8d8336d0-c97e-4fea-b3c3-5d6d3c934b9c",
   "metadata": {},
   "outputs": [],
   "source": [
    "import pandas as pd\n",
    "import numpy as np\n",
    "from sklearn import linear_model\n",
    "import math"
   ]
  },
  {
   "cell_type": "markdown",
   "id": "4eccb3c9-f650-47f1-97ad-5b08f88a82bf",
   "metadata": {},
   "source": [
    "##### Read data from csv file"
   ]
  },
  {
   "cell_type": "code",
   "execution_count": 116,
   "id": "1379437e-63bd-49f1-b2bb-d56de2db1d01",
   "metadata": {},
   "outputs": [
    {
     "data": {
      "text/html": [
       "<div>\n",
       "<style scoped>\n",
       "    .dataframe tbody tr th:only-of-type {\n",
       "        vertical-align: middle;\n",
       "    }\n",
       "\n",
       "    .dataframe tbody tr th {\n",
       "        vertical-align: top;\n",
       "    }\n",
       "\n",
       "    .dataframe thead th {\n",
       "        text-align: right;\n",
       "    }\n",
       "</style>\n",
       "<table border=\"1\" class=\"dataframe\">\n",
       "  <thead>\n",
       "    <tr style=\"text-align: right;\">\n",
       "      <th></th>\n",
       "      <th>Area</th>\n",
       "      <th>Bedrooms</th>\n",
       "      <th>Age</th>\n",
       "      <th>Price</th>\n",
       "    </tr>\n",
       "  </thead>\n",
       "  <tbody>\n",
       "    <tr>\n",
       "      <th>0</th>\n",
       "      <td>350</td>\n",
       "      <td>3.0</td>\n",
       "      <td>10</td>\n",
       "      <td>306500</td>\n",
       "    </tr>\n",
       "    <tr>\n",
       "      <th>1</th>\n",
       "      <td>400</td>\n",
       "      <td>3.0</td>\n",
       "      <td>25</td>\n",
       "      <td>320000</td>\n",
       "    </tr>\n",
       "    <tr>\n",
       "      <th>2</th>\n",
       "      <td>250</td>\n",
       "      <td>4.0</td>\n",
       "      <td>16</td>\n",
       "      <td>240000</td>\n",
       "    </tr>\n",
       "    <tr>\n",
       "      <th>3</th>\n",
       "      <td>305</td>\n",
       "      <td>4.0</td>\n",
       "      <td>10</td>\n",
       "      <td>300000</td>\n",
       "    </tr>\n",
       "    <tr>\n",
       "      <th>4</th>\n",
       "      <td>320</td>\n",
       "      <td>3.0</td>\n",
       "      <td>5</td>\n",
       "      <td>350000</td>\n",
       "    </tr>\n",
       "    <tr>\n",
       "      <th>5</th>\n",
       "      <td>280</td>\n",
       "      <td>NaN</td>\n",
       "      <td>15</td>\n",
       "      <td>300000</td>\n",
       "    </tr>\n",
       "    <tr>\n",
       "      <th>6</th>\n",
       "      <td>400</td>\n",
       "      <td>4.0</td>\n",
       "      <td>25</td>\n",
       "      <td>380000</td>\n",
       "    </tr>\n",
       "    <tr>\n",
       "      <th>7</th>\n",
       "      <td>300</td>\n",
       "      <td>5.0</td>\n",
       "      <td>40</td>\n",
       "      <td>350000</td>\n",
       "    </tr>\n",
       "  </tbody>\n",
       "</table>\n",
       "</div>"
      ],
      "text/plain": [
       "   Area  Bedrooms  Age   Price\n",
       "0   350       3.0   10  306500\n",
       "1   400       3.0   25  320000\n",
       "2   250       4.0   16  240000\n",
       "3   305       4.0   10  300000\n",
       "4   320       3.0    5  350000\n",
       "5   280       NaN   15  300000\n",
       "6   400       4.0   25  380000\n",
       "7   300       5.0   40  350000"
      ]
     },
     "execution_count": 116,
     "metadata": {},
     "output_type": "execute_result"
    }
   ],
   "source": [
    "df = pd.read_csv(\"Houses.csv\")\n",
    "df"
   ]
  },
  {
   "cell_type": "markdown",
   "id": "4d47b59f-0696-4ea5-9fdd-59637429b1ba",
   "metadata": {},
   "source": [
    "##### Data Cleaning"
   ]
  },
  {
   "cell_type": "code",
   "execution_count": 117,
   "id": "89b71304-a289-4a2d-81cb-891ae1ed8ed3",
   "metadata": {},
   "outputs": [
    {
     "data": {
      "text/plain": [
       "4"
      ]
     },
     "execution_count": 117,
     "metadata": {},
     "output_type": "execute_result"
    }
   ],
   "source": [
    "# Finding median in order to replace on null value\n",
    "median_bedroom = math.floor(df.Bedrooms.median())\n",
    "median_bedroom"
   ]
  },
  {
   "cell_type": "code",
   "execution_count": 118,
   "id": "88d89f24-5f4b-4114-bc92-d1dc1901be1f",
   "metadata": {},
   "outputs": [
    {
     "data": {
      "text/html": [
       "<div>\n",
       "<style scoped>\n",
       "    .dataframe tbody tr th:only-of-type {\n",
       "        vertical-align: middle;\n",
       "    }\n",
       "\n",
       "    .dataframe tbody tr th {\n",
       "        vertical-align: top;\n",
       "    }\n",
       "\n",
       "    .dataframe thead th {\n",
       "        text-align: right;\n",
       "    }\n",
       "</style>\n",
       "<table border=\"1\" class=\"dataframe\">\n",
       "  <thead>\n",
       "    <tr style=\"text-align: right;\">\n",
       "      <th></th>\n",
       "      <th>Area</th>\n",
       "      <th>Bedrooms</th>\n",
       "      <th>Age</th>\n",
       "      <th>Price</th>\n",
       "    </tr>\n",
       "  </thead>\n",
       "  <tbody>\n",
       "    <tr>\n",
       "      <th>0</th>\n",
       "      <td>350</td>\n",
       "      <td>3.0</td>\n",
       "      <td>10</td>\n",
       "      <td>306500</td>\n",
       "    </tr>\n",
       "    <tr>\n",
       "      <th>1</th>\n",
       "      <td>400</td>\n",
       "      <td>3.0</td>\n",
       "      <td>25</td>\n",
       "      <td>320000</td>\n",
       "    </tr>\n",
       "    <tr>\n",
       "      <th>2</th>\n",
       "      <td>250</td>\n",
       "      <td>4.0</td>\n",
       "      <td>16</td>\n",
       "      <td>240000</td>\n",
       "    </tr>\n",
       "    <tr>\n",
       "      <th>3</th>\n",
       "      <td>305</td>\n",
       "      <td>4.0</td>\n",
       "      <td>10</td>\n",
       "      <td>300000</td>\n",
       "    </tr>\n",
       "    <tr>\n",
       "      <th>4</th>\n",
       "      <td>320</td>\n",
       "      <td>3.0</td>\n",
       "      <td>5</td>\n",
       "      <td>350000</td>\n",
       "    </tr>\n",
       "    <tr>\n",
       "      <th>5</th>\n",
       "      <td>280</td>\n",
       "      <td>4.0</td>\n",
       "      <td>15</td>\n",
       "      <td>300000</td>\n",
       "    </tr>\n",
       "    <tr>\n",
       "      <th>6</th>\n",
       "      <td>400</td>\n",
       "      <td>4.0</td>\n",
       "      <td>25</td>\n",
       "      <td>380000</td>\n",
       "    </tr>\n",
       "    <tr>\n",
       "      <th>7</th>\n",
       "      <td>300</td>\n",
       "      <td>5.0</td>\n",
       "      <td>40</td>\n",
       "      <td>350000</td>\n",
       "    </tr>\n",
       "  </tbody>\n",
       "</table>\n",
       "</div>"
      ],
      "text/plain": [
       "   Area  Bedrooms  Age   Price\n",
       "0   350       3.0   10  306500\n",
       "1   400       3.0   25  320000\n",
       "2   250       4.0   16  240000\n",
       "3   305       4.0   10  300000\n",
       "4   320       3.0    5  350000\n",
       "5   280       4.0   15  300000\n",
       "6   400       4.0   25  380000\n",
       "7   300       5.0   40  350000"
      ]
     },
     "execution_count": 118,
     "metadata": {},
     "output_type": "execute_result"
    }
   ],
   "source": [
    "# Replacing null values with median and take a glimpse\n",
    "df.Bedrooms = df.Bedrooms.fillna(median_bedroom)\n",
    "df"
   ]
  },
  {
   "cell_type": "code",
   "execution_count": 119,
   "id": "68f460d1-ae08-42aa-b67f-ec97a3642a8d",
   "metadata": {},
   "outputs": [
    {
     "data": {
      "text/html": [
       "<div>\n",
       "<style scoped>\n",
       "    .dataframe tbody tr th:only-of-type {\n",
       "        vertical-align: middle;\n",
       "    }\n",
       "\n",
       "    .dataframe tbody tr th {\n",
       "        vertical-align: top;\n",
       "    }\n",
       "\n",
       "    .dataframe thead th {\n",
       "        text-align: right;\n",
       "    }\n",
       "</style>\n",
       "<table border=\"1\" class=\"dataframe\">\n",
       "  <thead>\n",
       "    <tr style=\"text-align: right;\">\n",
       "      <th></th>\n",
       "      <th>Area</th>\n",
       "      <th>Bedrooms</th>\n",
       "      <th>Age</th>\n",
       "      <th>Price</th>\n",
       "    </tr>\n",
       "  </thead>\n",
       "  <tbody>\n",
       "    <tr>\n",
       "      <th>count</th>\n",
       "      <td>8.000000</td>\n",
       "      <td>8.000000</td>\n",
       "      <td>8.000000</td>\n",
       "      <td>8.000000</td>\n",
       "    </tr>\n",
       "    <tr>\n",
       "      <th>mean</th>\n",
       "      <td>325.625000</td>\n",
       "      <td>3.750000</td>\n",
       "      <td>18.250000</td>\n",
       "      <td>318312.500000</td>\n",
       "    </tr>\n",
       "    <tr>\n",
       "      <th>std</th>\n",
       "      <td>54.211062</td>\n",
       "      <td>0.707107</td>\n",
       "      <td>11.285262</td>\n",
       "      <td>42694.042324</td>\n",
       "    </tr>\n",
       "    <tr>\n",
       "      <th>min</th>\n",
       "      <td>250.000000</td>\n",
       "      <td>3.000000</td>\n",
       "      <td>5.000000</td>\n",
       "      <td>240000.000000</td>\n",
       "    </tr>\n",
       "    <tr>\n",
       "      <th>25%</th>\n",
       "      <td>295.000000</td>\n",
       "      <td>3.000000</td>\n",
       "      <td>10.000000</td>\n",
       "      <td>300000.000000</td>\n",
       "    </tr>\n",
       "    <tr>\n",
       "      <th>50%</th>\n",
       "      <td>312.500000</td>\n",
       "      <td>4.000000</td>\n",
       "      <td>15.500000</td>\n",
       "      <td>313250.000000</td>\n",
       "    </tr>\n",
       "    <tr>\n",
       "      <th>75%</th>\n",
       "      <td>362.500000</td>\n",
       "      <td>4.000000</td>\n",
       "      <td>25.000000</td>\n",
       "      <td>350000.000000</td>\n",
       "    </tr>\n",
       "    <tr>\n",
       "      <th>max</th>\n",
       "      <td>400.000000</td>\n",
       "      <td>5.000000</td>\n",
       "      <td>40.000000</td>\n",
       "      <td>380000.000000</td>\n",
       "    </tr>\n",
       "  </tbody>\n",
       "</table>\n",
       "</div>"
      ],
      "text/plain": [
       "             Area  Bedrooms        Age          Price\n",
       "count    8.000000  8.000000   8.000000       8.000000\n",
       "mean   325.625000  3.750000  18.250000  318312.500000\n",
       "std     54.211062  0.707107  11.285262   42694.042324\n",
       "min    250.000000  3.000000   5.000000  240000.000000\n",
       "25%    295.000000  3.000000  10.000000  300000.000000\n",
       "50%    312.500000  4.000000  15.500000  313250.000000\n",
       "75%    362.500000  4.000000  25.000000  350000.000000\n",
       "max    400.000000  5.000000  40.000000  380000.000000"
      ]
     },
     "execution_count": 119,
     "metadata": {},
     "output_type": "execute_result"
    }
   ],
   "source": [
    "# Some descriptives\n",
    "df.describe()"
   ]
  },
  {
   "cell_type": "markdown",
   "id": "08a473fc-d6b5-4a96-8c6b-071378edfd04",
   "metadata": {},
   "source": [
    "##### Model training and making some predictions"
   ]
  },
  {
   "cell_type": "raw",
   "id": "90f184b0-0ff9-4b13-b1e8-bbad7dba2bb2",
   "metadata": {},
   "source": [
    "reg = linear_model.LinearRegression()\n",
    "reg.fit(df[['Area','Bedrooms','Age']],df.Price)\n"
   ]
  },
  {
   "cell_type": "code",
   "execution_count": 120,
   "id": "b44aea4d-384d-433e-8324-cbf4bdd3512f",
   "metadata": {},
   "outputs": [
    {
     "data": {
      "text/plain": [
       "array([  791.84335568, 40889.24088835, -1067.28615404])"
      ]
     },
     "execution_count": 120,
     "metadata": {},
     "output_type": "execute_result"
    }
   ],
   "source": [
    "reg.coef_\n"
   ]
  },
  {
   "cell_type": "code",
   "execution_count": 135,
   "id": "e3e4bf41-83ed-4734-a1b6-ebfe99c2abdd",
   "metadata": {},
   "outputs": [
    {
     "data": {
      "text/plain": [
       "-73388.17371243134"
      ]
     },
     "execution_count": 135,
     "metadata": {},
     "output_type": "execute_result"
    }
   ],
   "source": [
    "reg.intercept_"
   ]
  },
  {
   "cell_type": "code",
   "execution_count": 160,
   "id": "1f8344e2-48cf-471c-b26c-d7e4c2f229c2",
   "metadata": {},
   "outputs": [
    {
     "name": "stderr",
     "output_type": "stream",
     "text": [
      "C:\\Users\\joshz\\anaconda3\\Lib\\site-packages\\sklearn\\base.py:493: UserWarning: X does not have valid feature names, but LinearRegression was fitted with feature names\n",
      "  warnings.warn(\n"
     ]
    },
    {
     "data": {
      "text/plain": [
       "array([278741.69690192])"
      ]
     },
     "execution_count": 160,
     "metadata": {},
     "output_type": "execute_result"
    }
   ],
   "source": [
    "reg.predict([[310,3,15]])"
   ]
  },
  {
   "cell_type": "code",
   "execution_count": null,
   "id": "9be0340c-01d1-435a-917b-a28c6c302e29",
   "metadata": {},
   "outputs": [],
   "source": []
  },
  {
   "cell_type": "code",
   "execution_count": null,
   "id": "5415190a-55ed-4766-a5a0-fa4a77d85fce",
   "metadata": {},
   "outputs": [],
   "source": []
  }
 ],
 "metadata": {
  "kernelspec": {
   "display_name": "Python 3 (ipykernel)",
   "language": "python",
   "name": "python3"
  },
  "language_info": {
   "codemirror_mode": {
    "name": "ipython",
    "version": 3
   },
   "file_extension": ".py",
   "mimetype": "text/x-python",
   "name": "python",
   "nbconvert_exporter": "python",
   "pygments_lexer": "ipython3",
   "version": "3.12.7"
  }
 },
 "nbformat": 4,
 "nbformat_minor": 5
}
